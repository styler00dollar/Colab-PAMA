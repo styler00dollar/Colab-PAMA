{
  "nbformat": 4,
  "nbformat_minor": 0,
  "metadata": {
    "colab": {
      "name": "Colab-PAMA.ipynb",
      "private_outputs": true,
      "provenance": [],
      "collapsed_sections": []
    },
    "kernelspec": {
      "name": "python3",
      "display_name": "Python 3"
    },
    "language_info": {
      "name": "python"
    },
    "accelerator": "GPU"
  },
  "cells": [
    {
      "cell_type": "markdown",
      "source": [
        "# Colab-PAMA\n",
        "\n",
        "Original repo: [computer-vision2022/PAMA](https://github.com/computer-vision2022/PAMA)\n",
        "\n",
        "My fork: [styler00dollar/Colab-PAMA](https://github.com/styler00dollar/Colab-PAMA)"
      ],
      "metadata": {
        "id": "HXasMMt5n7SS"
      }
    },
    {
      "cell_type": "code",
      "execution_count": null,
      "metadata": {
        "id": "DSfzsz9tn6ui"
      },
      "outputs": [],
      "source": [
        "!nvidia-smi"
      ]
    },
    {
      "cell_type": "code",
      "source": [
        "#@title install\n",
        "%cd /content/\n",
        "!git clone https://github.com/computer-vision2022/PAMA\n",
        "# original_PAMA.zip\n",
        "!mkdir /content/PAMA/checkpoints\n",
        "%cd /content/PAMA/checkpoints\n",
        "!gdown --id 1rPB_qnelVVSad6CtadmhRFi0PMI_RKdy\n",
        "!7z e original_PAMA.zip"
      ],
      "metadata": {
        "id": "vg-0fqWcoE0s",
        "cellView": "form"
      },
      "execution_count": null,
      "outputs": []
    },
    {
      "cell_type": "markdown",
      "source": [
        "Result is in `/content/PAMA/ics.jpg`."
      ],
      "metadata": {
        "id": "-cJUyy2ppvsy"
      }
    },
    {
      "cell_type": "code",
      "source": [
        "%cd /content/PAMA\n",
        "!python main.py eval --content /content/content.png --style /content/style.png"
      ],
      "metadata": {
        "id": "Pyc7Q4tZoNgn"
      },
      "execution_count": null,
      "outputs": []
    }
  ]
}